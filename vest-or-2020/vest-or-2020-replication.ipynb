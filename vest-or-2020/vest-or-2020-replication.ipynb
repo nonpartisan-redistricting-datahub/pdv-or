{
 "cells": [
  {
   "cell_type": "code",
   "execution_count": 1,
   "id": "bbb2621f",
   "metadata": {},
   "outputs": [],
   "source": [
    "import pandas as pd\n",
    "import geopandas as gp\n",
    "import numpy as np \n",
    "import os\n",
    "import fiona\n",
    "from statistics import mean, median\n",
    "import string\n",
    "import sys"
   ]
  },
  {
   "cell_type": "markdown",
   "id": "c02a8740",
   "metadata": {},
   "source": [
    "# Oregon 2020"
   ]
  },
  {
   "cell_type": "markdown",
   "id": "f2781c04",
   "metadata": {},
   "source": [
    "## VEST Documentation"
   ]
  },
  {
   "cell_type": "markdown",
   "id": "4ece32ce",
   "metadata": {},
   "source": [
    "Election results from the Oregon Secretary of State via OpenElections (https://github.com/openelections/openelections-data-or/). Results from Polk, Tillamook, Wallowa, and Wasco counties were corrected with the respective county canvass reports.\n",
    "\n",
    "Precinct shapefiles for the following counties were provided by the respective county governments: Benton, Clatsop, Columbia, Coos, Crook, Curry, Deschutes, Douglas, Harney, Hood River, Jackson, Josephine, Klamath, Lane, Linn, Malheur, Morrow, Multnomah, Polk, Sherman, Tillamook, Umatilla, Union, Wallowa, Wasco, Yamhill.\n",
    "\n",
    "Precinct shapefiles for the following counties were provided by the Oregon Secretary of State: Jefferson, Lane, Marion. Several gaps in the Marion County shapefile were assigned based on the Precinct Split Summary Report.\n",
    "\n",
    "Precinct shapefiles for Clackamas and Washington were provided by the Metro Regional Government Data Resource Center.\n",
    "\n",
    "Precinct boundaries for Grant County and Wheeler County are defined by school district boundaries. Precinct shapefiles were produced to match PDF maps provided by the respective counties using the 2016 Oregon Education Boundaries shapefile obtained from the Oregon Spatial Data Library.\n",
    "\n",
    "Precinct shapefiles for the following counties were produced based on PDF maps provided by the respective counties: Baker, Gilliam, Lake, Lincoln. Boundaries defined by the PLSS grid were produced with the Oregon Public Land Survey Quarter-Quarter Reference Grid shapefile obtained from the Oregon Spatial Data Library. Municipal boundaries were produced from the Oregon Department of Transportion 2016 City Limits shapefile obtained from the Oregon Spatial Data Library. Street boundaries were produced from the U.S. Census Bureau census block shapefiles.\n",
    "\n",
    "PDF maps obtained from Lake County are approximate precinct boundaries drawn on the PLSS grid for county precincts and on the street map for Lakeview city precincts. These boundaries were adjusted to match address range assignments in the Lake County Address Library Report which serves as the legal definition of the precincts according to the Lake County Clerk. Precinct divisions across roads that span multiple rural precincts are generally defined by zip codes. Address ranges were further identified based on the Lake County tax lot parcel viewer.\n",
    "\n",
    "Rural precinct boundaries in the shapefiles provided by Coos County and Union County were revised to match the updated PLSS cadastral grid in the Oregon GIS Framework obtained from the Oregon Spatial Data Library. \n",
    "\n",
    "Municipal precinct boundaries in the following counties were edited to match city limits in effect for the November 2020 general election: Coos, Deschutes, Douglas, Jefferson, Malheur, Marion, Tillamook, Umatilla, Washington, Yamhill.\n",
    "\n",
    "Precinct numbers in the Columbia County, Josephine County, and Wallowa County shapefiles were edited to match the Oregon Secretary of State voter file.\n",
    "\n",
    "G20PREDBID - Joseph R. Biden (Democratic Party)  \n",
    "G20PRERTRU - Donald J. Trump (Republican Party)  \n",
    "G20PRELJOR - Jo Jorgensen (Libertarian Party)  \n",
    "G20PREGHAW - Howie Hawkins (Pacific Green Party)  \n",
    "G20PREPHUN - Dario Hunter (Progressive Party)  \n",
    "G20PREOWRI - Write-in Votes  \n",
    "\n",
    "G20USSDMER - Jeff Merkley (Democratic Party, Independent Party and Working Family Party (fusion candidate))  \n",
    "G20USSRPER - Jo Rae Perkins (Republican Party)  \n",
    "G20USSLDYE - Gary Dye (Libertarian Party)  \n",
    "G20USSGTAH - Ibrahim A. Taher (Pacific Green Party and Progressive Party (fusion candidate))  \n",
    "G20USSOWRI - Write-in Votes  \n",
    "\n",
    "G20ATGDROS - Ellen Rosenblum (Democratic Party, Independent Party and Working Family Party (fusion candidate))  \n",
    "G20ATGRCRO - Michael Cross (Republican Party)  \n",
    "G20ATGLHED - Lars D. H. Hedbor (Libertarian Party)  \n",
    "G20ATGOWRI - Write-in Votes  \n",
    "\n",
    "G20SOSDFAG - Shemia Fagan (Democratic Party and Working Family Party (fusion candidate))  \n",
    "G20SOSRTHA - Kim Thatcher (Republican Party and Independent Party (fusion candidate))  \n",
    "G20SOSLMAR - Kyle Markley (Libertarian Party)  \n",
    "G20SOSGPAR - Nathalie Paravicini (Pacific Green Party and Progressive Party (fusion candidate))  \n",
    "G20SOSOWRI - Write-in Votes  \n",
    "\n",
    "G20TREDREA - Tobias Read (Democratic Party and Working Family Party (fusion candidate))  \n",
    "G20TRERGUD - Jeff Gudman (Republican Party)  \n",
    "G20TREIHEN - Chris Henry (Independent Party, Pacific Green Party and Progressive Party (fusion candidate))  \n",
    "G20TRECMAR - Michael P. Marsh (Constitution Party)  \n",
    "G20TREOWRI - Write-in Votes  "
   ]
  },
  {
   "cell_type": "markdown",
   "id": "6fd4ec97",
   "metadata": {},
   "source": [
    "## Load VEST File"
   ]
  },
  {
   "cell_type": "code",
   "execution_count": 2,
   "id": "38357863",
   "metadata": {},
   "outputs": [],
   "source": [
    "vest_or_20 = gp.read_file(\"./raw-from-source/VEST/or_2020/or_2020.shp\")"
   ]
  },
  {
   "cell_type": "code",
   "execution_count": 3,
   "id": "5a7b1fb8",
   "metadata": {},
   "outputs": [],
   "source": [
    "data_columns = [x for x in vest_or_20.columns if \"G20\" in x]"
   ]
  },
  {
   "cell_type": "markdown",
   "id": "6095fad9",
   "metadata": {},
   "source": [
    "## Load OR Votes"
   ]
  },
  {
   "cell_type": "code",
   "execution_count": 4,
   "id": "39b1de9f",
   "metadata": {},
   "outputs": [
    {
     "data": {
      "text/html": [
       "<div>\n",
       "<style scoped>\n",
       "    .dataframe tbody tr th:only-of-type {\n",
       "        vertical-align: middle;\n",
       "    }\n",
       "\n",
       "    .dataframe tbody tr th {\n",
       "        vertical-align: top;\n",
       "    }\n",
       "\n",
       "    .dataframe thead th {\n",
       "        text-align: right;\n",
       "    }\n",
       "</style>\n",
       "<table border=\"1\" class=\"dataframe\">\n",
       "  <thead>\n",
       "    <tr style=\"text-align: right;\">\n",
       "      <th></th>\n",
       "      <th>county</th>\n",
       "      <th>precinct</th>\n",
       "      <th>office</th>\n",
       "      <th>district</th>\n",
       "      <th>party</th>\n",
       "      <th>candidate</th>\n",
       "      <th>votes</th>\n",
       "    </tr>\n",
       "  </thead>\n",
       "  <tbody>\n",
       "    <tr>\n",
       "      <th>0</th>\n",
       "      <td>Linn</td>\n",
       "      <td>Precinct 001</td>\n",
       "      <td>President</td>\n",
       "      <td>NaN</td>\n",
       "      <td>REP</td>\n",
       "      <td>Donald J. Trump</td>\n",
       "      <td>208.0</td>\n",
       "    </tr>\n",
       "    <tr>\n",
       "      <th>1</th>\n",
       "      <td>Linn</td>\n",
       "      <td>Precinct 001</td>\n",
       "      <td>President</td>\n",
       "      <td>NaN</td>\n",
       "      <td>DEM</td>\n",
       "      <td>Joseph R. Biden</td>\n",
       "      <td>428.0</td>\n",
       "    </tr>\n",
       "    <tr>\n",
       "      <th>2</th>\n",
       "      <td>Linn</td>\n",
       "      <td>Precinct 001</td>\n",
       "      <td>President</td>\n",
       "      <td>NaN</td>\n",
       "      <td>LBT</td>\n",
       "      <td>Jo Jorgensen</td>\n",
       "      <td>11.0</td>\n",
       "    </tr>\n",
       "    <tr>\n",
       "      <th>3</th>\n",
       "      <td>Linn</td>\n",
       "      <td>Precinct 001</td>\n",
       "      <td>President</td>\n",
       "      <td>NaN</td>\n",
       "      <td>PGP</td>\n",
       "      <td>Howie Hawkins</td>\n",
       "      <td>8.0</td>\n",
       "    </tr>\n",
       "    <tr>\n",
       "      <th>4</th>\n",
       "      <td>Linn</td>\n",
       "      <td>Precinct 001</td>\n",
       "      <td>President</td>\n",
       "      <td>NaN</td>\n",
       "      <td>PRO</td>\n",
       "      <td>Dario Hunter</td>\n",
       "      <td>7.0</td>\n",
       "    </tr>\n",
       "    <tr>\n",
       "      <th>...</th>\n",
       "      <td>...</td>\n",
       "      <td>...</td>\n",
       "      <td>...</td>\n",
       "      <td>...</td>\n",
       "      <td>...</td>\n",
       "      <td>...</td>\n",
       "      <td>...</td>\n",
       "    </tr>\n",
       "    <tr>\n",
       "      <th>81840</th>\n",
       "      <td>Malheur</td>\n",
       "      <td>20 - City of Jordan Valley</td>\n",
       "      <td>State House</td>\n",
       "      <td>60.0</td>\n",
       "      <td>NaN</td>\n",
       "      <td>Under Votes</td>\n",
       "      <td>1.0</td>\n",
       "    </tr>\n",
       "    <tr>\n",
       "      <th>81841</th>\n",
       "      <td>Malheur</td>\n",
       "      <td>21 - Rural Jordan Valley</td>\n",
       "      <td>State House</td>\n",
       "      <td>60.0</td>\n",
       "      <td>NaN</td>\n",
       "      <td>Under Votes</td>\n",
       "      <td>5.0</td>\n",
       "    </tr>\n",
       "    <tr>\n",
       "      <th>81842</th>\n",
       "      <td>Malheur</td>\n",
       "      <td>22 - Arock</td>\n",
       "      <td>State House</td>\n",
       "      <td>60.0</td>\n",
       "      <td>NaN</td>\n",
       "      <td>Under Votes</td>\n",
       "      <td>0.0</td>\n",
       "    </tr>\n",
       "    <tr>\n",
       "      <th>81843</th>\n",
       "      <td>Malheur</td>\n",
       "      <td>23 - McDermitt</td>\n",
       "      <td>State House</td>\n",
       "      <td>60.0</td>\n",
       "      <td>NaN</td>\n",
       "      <td>Under Votes</td>\n",
       "      <td>3.0</td>\n",
       "    </tr>\n",
       "    <tr>\n",
       "      <th>81844</th>\n",
       "      <td>Malheur</td>\n",
       "      <td>24 - Annex/Huntington/Farewell Bend</td>\n",
       "      <td>State House</td>\n",
       "      <td>60.0</td>\n",
       "      <td>NaN</td>\n",
       "      <td>Under Votes</td>\n",
       "      <td>9.0</td>\n",
       "    </tr>\n",
       "  </tbody>\n",
       "</table>\n",
       "<p>81845 rows × 7 columns</p>\n",
       "</div>"
      ],
      "text/plain": [
       "        county                             precinct       office district  \\\n",
       "0         Linn                         Precinct 001    President      NaN   \n",
       "1         Linn                         Precinct 001    President      NaN   \n",
       "2         Linn                         Precinct 001    President      NaN   \n",
       "3         Linn                         Precinct 001    President      NaN   \n",
       "4         Linn                         Precinct 001    President      NaN   \n",
       "...        ...                                  ...          ...      ...   \n",
       "81840  Malheur           20 - City of Jordan Valley  State House     60.0   \n",
       "81841  Malheur             21 - Rural Jordan Valley  State House     60.0   \n",
       "81842  Malheur                           22 - Arock  State House     60.0   \n",
       "81843  Malheur                       23 - McDermitt  State House     60.0   \n",
       "81844  Malheur  24 - Annex/Huntington/Farewell Bend  State House     60.0   \n",
       "\n",
       "      party        candidate  votes  \n",
       "0       REP  Donald J. Trump  208.0  \n",
       "1       DEM  Joseph R. Biden  428.0  \n",
       "2       LBT     Jo Jorgensen   11.0  \n",
       "3       PGP    Howie Hawkins    8.0  \n",
       "4       PRO     Dario Hunter    7.0  \n",
       "...     ...              ...    ...  \n",
       "81840   NaN      Under Votes    1.0  \n",
       "81841   NaN      Under Votes    5.0  \n",
       "81842   NaN      Under Votes    0.0  \n",
       "81843   NaN      Under Votes    3.0  \n",
       "81844   NaN      Under Votes    9.0  \n",
       "\n",
       "[81845 rows x 7 columns]"
      ]
     },
     "metadata": {},
     "output_type": "display_data"
    }
   ],
   "source": [
    "file_list = os.listdir(\"./raw-from-source/Election_Results/2020/counties\")\n",
    "li = []\n",
    "for file in file_list:\n",
    "    #print(file)\n",
    "    if \"general\" in file:\n",
    "        #print(file)\n",
    "        file_ref = \"./raw-from-source/Election_Results/2020/counties/\"+file\n",
    "        file_prev = pd.read_csv(file_ref)\n",
    "        if 'precincts' in file_prev.columns:\n",
    "            file_prev['precinct'] = file_prev['precincts']\n",
    "     \n",
    "        file_prev = file_prev[['county', 'precinct', 'office', 'district', 'party', 'candidate','votes']]\n",
    "        li.append(file_prev)\n",
    "election_results = pd.concat(li, axis=0, ignore_index=True)\n",
    "display(election_results)"
   ]
  },
  {
   "cell_type": "code",
   "execution_count": 5,
   "id": "a8693a4e",
   "metadata": {},
   "outputs": [
    {
     "data": {
      "text/plain": [
       "array(['President', 'U.S. Senate', 'U.S. House', 'Secretary of State',\n",
       "       'State Treasurer', 'Attorney General', 'State House',\n",
       "       'County Commissioner, Position 2',\n",
       "       'County Commissioner, Position 3',\n",
       "       'Judge of the Supreme Court, Position 4',\n",
       "       'Judge of the Court of Appeals, Position 9',\n",
       "       'Judge of the Circuit Court, 23rd District, Position 4',\n",
       "       'County Treasurer',\n",
       "       'Linn Soil & Water Conservation District, Director, Zone 2',\n",
       "       'Linn Soil & Water Conservation District, Director, Zone 4',\n",
       "       'Linn Soil & Water Conservation District, Director, Zone 5',\n",
       "       'Linn Soil & Water Conservation District, Director, At Large',\n",
       "       'Mayor - City of Albany', 'City of Albany - Councilor, Ward IB',\n",
       "       '22-183 Four Year Law Enforcement Local Option Tax Levy',\n",
       "       '107 Limiting/identifing political campaign contributions',\n",
       "       '108 Increase cigarette and cigar taxes',\n",
       "       '109 Allows manufacture, delivery, admin. of psilocybinVote for 1',\n",
       "       '110 Addiction/Recovery & Possession/Penalties for Marijuana',\n",
       "       '109 Allows manufacture, delivery, admin. of psilocybin',\n",
       "       'City of Albany - Councilor, Ward IIB',\n",
       "       'City of Albany - Councilor, Ward IIIB', 'State Senate',\n",
       "       'City of Sweet Home - Council Members Vote for',\n",
       "       'City of Sweet Home - Council Members',\n",
       "       '22-184 Sweet Home 5Yr. Library Levy',\n",
       "       '22-185 Sweet Home 5Yr. Police Levy',\n",
       "       'Emerald PUD Director Subdivision 4', 'City of Harrisburg - Mayor',\n",
       "       'City of Harrisburg Council Members',\n",
       "       'City of Idanha - Councilor Vote for', 'City of Lebanon - Mayor',\n",
       "       'City of Lebanon Councilor, Ward III',\n",
       "       'City of Lebanon - Councilor, Ward II', 'City of Lyons - Mayor',\n",
       "       'City of Lyons - Council Members Vote for',\n",
       "       '22-182 City of Lyons Charter Amendments',\n",
       "       'City of Mill City - Mayor',\n",
       "       'City of Mill City - Council Members Vote for', 'Scio - Mayor',\n",
       "       'City of Scio - Council Member, Position',\n",
       "       'City of Tangent - Mayor',\n",
       "       'City of Tangent - Council Members, Position',\n",
       "       'City of Sodaville - Mayor',\n",
       "       'City of Sodaville - Council Members Vote for 2',\n",
       "       'City of Waterloo - Mayor', 'City of Waterloo - Council Members',\n",
       "       'City of Waterloo - Council Members Vote for',\n",
       "       'City of Brownsville - Council Members',\n",
       "       'City of Millersburg - Council Members',\n",
       "       'City of Sweet Home - Council Members Vote for 4',\n",
       "       'City of Gates - Mayor', 'City of Gates - Council Members',\n",
       "       'City of Halsey - Mayor', 'City of Halsey - Council Members',\n",
       "       'City of Lebanon Councilor, Ward I', 'Registered Voters',\n",
       "       'Ballots Cast',\n",
       "       'Judge of the Circuit Court, 4th District, Position 12',\n",
       "       'Judge of the Circuit Court, 4th District, Position 26',\n",
       "       'City of Fairview, Councilor, Position 1',\n",
       "       'City of Fairview, Councilor, Position 2',\n",
       "       'City of Fairview, Councilor, Position 3',\n",
       "       'City of Fairview, Councilor, Position 5',\n",
       "       'City of Gresham, Mayor', 'City of Gresham, Councilor, Position 1',\n",
       "       'City of Gresham, Councilor, Position 3',\n",
       "       'City of Gresham, Councilor, Position 5',\n",
       "       'City of Maywood Park, Council Member (Vote for 3)',\n",
       "       'City of Portland, Mayor',\n",
       "       'City of Portland, Commissioner, Position 4',\n",
       "       'City of Troutdale, Mayor',\n",
       "       'City of Troutdale, Councilor, Position 2',\n",
       "       'City of Troutdale, Councilor, Position 4',\n",
       "       'City of Troutdale, Councilor, Position 6',\n",
       "       'City of Wood Village, Councilor, Position 2',\n",
       "       'City of Wood Village, Councilor, Position 3',\n",
       "       'City of Wood Village, Councilor, Position 5',\n",
       "       'City of Lake Oswego, Mayor',\n",
       "       'City of Lake Oswego, Councilor (Vote for 3)',\n",
       "       'Metro Councilor, District 5', 'EMSWCD Dir At Large Position 1',\n",
       "       'EMSWCD Dir At Large Position 2', 'EMSWCD Dir Zone 1',\n",
       "       'EMSWCD Dir Zone 2', 'WMSWCD Dir At Large Pos 1',\n",
       "       'WMSWCD Dir Zone 1', 'WMSWCD Dir Zone 2', 'WMSWCD Dir Zone 3',\n",
       "       'Rockwood Water PUD Dir SD 1', 'Rockwood Water PUD Dir SD 3',\n",
       "       'Rockwood Water PUD Dir SD 4', 'Interlachen Water PUD Dir SD 1',\n",
       "       'Interlachen Water PUD Dir SD 4', 'Interlachen Water PUD Dir SD 5',\n",
       "       'Measure 107', 'Measure 108', 'Measure 109', 'Measure 110',\n",
       "       'Measure 26-211', 'Measure 26-214', 'Measure 26-213',\n",
       "       'Measure 26-217', 'Measure 26-219', 'Measure 26-212',\n",
       "       'Measure 26-218', 'Measure 3-560', 'Measure 26-216',\n",
       "       'Measure 26-220', 'Measure 26-215', 'Ballots Cast Blank',\n",
       "       'Jackson County Commissioner, Position 2',\n",
       "       'Jackson County Assessor', 'City of Ashland, Mayor',\n",
       "       'City of Ashland, Council Member, Position 1',\n",
       "       'City of Ashland, Council Member, Position 3',\n",
       "       'City of Ashland, Council Member, Position 5',\n",
       "       'City of Ashland, Park Commissioner, Position 1',\n",
       "       'City of Ashland, Park Commissioner, Position 2',\n",
       "       'Jackson SWCD, Director, Zone 1', 'Jackson SWCD, Director, Zone 2',\n",
       "       'Jackson SWCD, Director, Zone 3', 'Jackson SWCD, Director, Zone 4',\n",
       "       'Jackson SWCD, Director, Zone 5',\n",
       "       'Measure 108 Cigarette, Cigar, and Vaping Device Tax',\n",
       "       'Measure 109 Psilocybin Facilities',\n",
       "       'Measure 110 Addiction/Recovery Services',\n",
       "       'Measure 15-197 Ashland School District 5-Levy Renewal',\n",
       "       'City of Central Point, Mayor',\n",
       "       'City of Central Point, Council Member, Ward 4',\n",
       "       'City of Central Point, Council Members, At-Large',\n",
       "       'City of Eagle Point, Mayor',\n",
       "       'City of Eagle Point, Council Members', 'City of Gold Hill, Mayor',\n",
       "       'City of Gold Hill, Council Members',\n",
       "       'City of Gold Hill, Municipal Judge',\n",
       "       'City of Jacksonville, Mayor',\n",
       "       'City of Jacksonville, Council Members', 'City of Medford, Mayor',\n",
       "       'City of Medford, Council Member, Ward 1',\n",
       "       'City of Medford, Council Member, Ward 4',\n",
       "       'City of Medford, Council Member, Ward 2',\n",
       "       'City of Medford, Council Member, Ward 3',\n",
       "       'City of Phoenix, Mayor', 'City of Phoenix, Council Members',\n",
       "       'City of Rogue River, Mayor',\n",
       "       'City of Rogue River, Council Members',\n",
       "       'Measure 15-196 Rogue River Fire District 1-Levy Renewal',\n",
       "       'City of Shady Cove, Mayor', 'City of Shady Cove, Council Members',\n",
       "       'Measure 15-199 Shady Cove Charter Amendment',\n",
       "       'Measure 15-198 Jackson County Fire District 4-Levy Renewal',\n",
       "       'City of Talent, Council Member, Position 2',\n",
       "       'City of Talent, Council Member, Position 4',\n",
       "       'City of Talent, Council Member, Position 6', 'County Clerk',\n",
       "       'County Sheriff',\n",
       "       'Curry County Soil and Water Conservation District, Zone 2',\n",
       "       'Curry County Soil and Water Conservation District, Zone 3',\n",
       "       'Curry County Soil and Water Conservation District, At Large',\n",
       "       'Measure 107 - Amends Constitution: Allows laws limiting',\n",
       "       'Measure 108 - Increases cigarette and cigar taxes',\n",
       "       'Measure 109 - Allows manufacture delivery admin psilocybin',\n",
       "       'Measure 110 - Provides statewide addiction/recovery services',\n",
       "       'City of Port Orford, Mayor',\n",
       "       'City of Port Orford, Councilor (Vote for 3)',\n",
       "       \"Measure 8-101- Imposes city tax on marijuana retailer's sale\",\n",
       "       'City of Gold Beach, Mayor',\n",
       "       'City of Gold Beach, Council, Position #2',\n",
       "       'City of Gold Beach, Council, Position #4',\n",
       "       'City of Brookings, Mayor',\n",
       "       'City of Brookings, Council, Position #1',\n",
       "       'City of Brookings, Council, Position #2',\n",
       "       'Judge of the Supreme Court Position 4',\n",
       "       'Judge of the Court of Appeals Position 9'], dtype=object)"
      ]
     },
     "execution_count": 5,
     "metadata": {},
     "output_type": "execute_result"
    }
   ],
   "source": [
    "election_results[\"office\"].unique()"
   ]
  },
  {
   "cell_type": "code",
   "execution_count": 6,
   "id": "41bf4c71",
   "metadata": {},
   "outputs": [],
   "source": [
    "office_list = ['President', 'U.S. Senate','Secretary of State',\n",
    "       'State Treasurer', 'Attorney General']\n",
    "election_results = election_results[election_results[\"office\"].isin(office_list)]\n"
   ]
  },
  {
   "cell_type": "code",
   "execution_count": 7,
   "id": "ea67f015",
   "metadata": {},
   "outputs": [],
   "source": [
    "election_results[\"pivot_col\"] = election_results[\"county\"] +\"-\" + election_results[\"precinct\"].astype(str)"
   ]
  },
  {
   "cell_type": "code",
   "execution_count": 8,
   "id": "d4c55754",
   "metadata": {},
   "outputs": [],
   "source": [
    "election_results[\"candidate\"].unique()\n",
    "\n",
    "drop_cand_list = ['Over Votes', 'Under Votes','undervote','over']\n",
    "\n",
    "election_results = election_results[~election_results[\"candidate\"].isin(drop_cand_list)]"
   ]
  },
  {
   "cell_type": "code",
   "execution_count": 9,
   "id": "c00fe5d3",
   "metadata": {},
   "outputs": [],
   "source": [
    "election_results[\"cand_detailed\"] = election_results[\"office\"]+\"-\"+election_results[\"candidate\"]"
   ]
  },
  {
   "cell_type": "code",
   "execution_count": 10,
   "id": "8111b6a2",
   "metadata": {},
   "outputs": [
    {
     "data": {
      "text/plain": [
       "array(['President-Donald J. Trump', 'President-Joseph R. Biden',\n",
       "       'President-Jo Jorgensen', 'President-Howie Hawkins',\n",
       "       'President-Dario Hunter', 'President-Write-in',\n",
       "       'U.S. Senate-Jo Rae Perkins', 'U.S. Senate-Jeff Merkley',\n",
       "       'U.S. Senate-Ibrahim A Taher', 'U.S. Senate-Gary Dye',\n",
       "       'U.S. Senate-Write-in', 'Secretary of State-Nathalie Paravicini',\n",
       "       'Secretary of State-Kyle Markley',\n",
       "       'Secretary of State-Kim Thatcher',\n",
       "       'Secretary of State-Shemia Fagan', 'Secretary of State-Write-in',\n",
       "       'State Treasurer-Michael P Marsh', 'State Treasurer-Tobias Read',\n",
       "       'State Treasurer-Chris Henry', 'State Treasurer-Jeff Gudman',\n",
       "       'State Treasurer-Write-in', 'Attorney General-Ellen Rosenblum',\n",
       "       'Attorney General-Lars D H Hedbor',\n",
       "       'Attorney General-Michael Cross', 'Attorney General-Write-in',\n",
       "       'Attorney General-Write-ins', 'President-Write-ins',\n",
       "       'Secretary of State-Write-ins', 'State Treasurer-Write-ins',\n",
       "       'U.S. Senate-Write-ins', 'U.S. Senate-Ibrahim A. Taher',\n",
       "       'State Treasurer-Michael P. Marsh',\n",
       "       'Attorney General-Lars D.H. Hedbor',\n",
       "       'President-Joseph R Biden / Kamala D Harris',\n",
       "       'President-Jo Jorgensen / Jeremy (Spike) Cohen',\n",
       "       'President-Howie Hawkins / Angela Walker',\n",
       "       'President-Ballots Cast', 'President-Writein',\n",
       "       'U.S. Senate-Ibrahim Tahir',\n",
       "       'Secretary of State-Nathalie Paracivini',\n",
       "       'State Treasurer-Michael Marsh', 'State Treasurer-Tobias Reed',\n",
       "       'State Treasurer-Writein', 'Attorney General-Ellen Roseblum',\n",
       "       'Attorney General-Lars Hedbor', 'Attorney General-Writein',\n",
       "       'Secretary of State-Writein', 'U.S. Senate-Ibrahim Taher',\n",
       "       'Secretary of State-Kyle Markey',\n",
       "       'Attorney General-Lars D. H. Hedbor', 'President-Write-Ins',\n",
       "       'U.S. Senate-Write-Ins', 'Secretary of State-Write-Ins',\n",
       "       'State Treasurer-Write-Ins', 'Attorney General-Write-Ins',\n",
       "       'President-Write-In', 'U.S. Senate-Write-In',\n",
       "       'Secretary of State-Write-In', 'State Treasurer-Write-In',\n",
       "       'Attorney General-Write-In', 'State Treasurer-IND Chris Henry',\n",
       "       'U.S. Senate-Ibraham Taher',\n",
       "       'Secretary of State-Nathalie Paravacini',\n",
       "       'State Treasurer-Michael P. Marsch',\n",
       "       'President-Joseph R. Biden / Kamala D Harris',\n",
       "       'President-Jo Jorgensen / Jeremy. (Spike) Cohen',\n",
       "       'U.S. Senate-Gary.Dye', 'State Treasurer-Chris Hen',\n",
       "       'President-Jo Jorgensen / Jeremy Spike) Cohen',\n",
       "       'Secretary of State-Natalie Paravicini',\n",
       "       'President-Jo Jorgensen /Jeremy (Spike) Cohen'], dtype=object)"
      ]
     },
     "execution_count": 10,
     "metadata": {},
     "output_type": "execute_result"
    }
   ],
   "source": [
    "election_results[\"cand_detailed\"].unique()"
   ]
  },
  {
   "cell_type": "markdown",
   "id": "3e5bd09d",
   "metadata": {},
   "source": [
    "G20ATGDROS - Ellen Rosenblum (Democratic Party, Independent Party and Working Family Party (fusion candidate))\n",
    "G20ATGRCRO - Michael Cross (Republican Party)\n",
    "G20ATGLHED - Lars D. H. Hedbor (Libertarian Party)\n",
    "G20ATGOWRI - Write-in Votes"
   ]
  },
  {
   "cell_type": "code",
   "execution_count": 11,
   "id": "dac6efc2",
   "metadata": {},
   "outputs": [],
   "source": [
    "cand_name_updates_dict = {'President-Donald J. Trump':\"G20PRERTRU\",\n",
    " 'President-Joseph R. Biden':\"G20PREDBID\",\n",
    " 'President-Jo Jorgensen':\"G20PRELJOR\", \n",
    " 'President-Howie Hawkins':\"G20PREGHAW\",\n",
    " 'President-Dario Hunter':\"G20PREPHUN\", \n",
    " 'President-Write-in':\"G20PREOWRI\",\n",
    " 'President-Jo Jorgensen /Jeremy (Spike) Cohen':\"G20PRELJOR\",\n",
    " 'President-Jo Jorgensen / JeremyjSpike) Cohen':\"G20PRELJOR\",\n",
    " 'President-Joseph R Biden / Kamala D Harris':\"G20PREDBID\",\n",
    " 'President-Jo Jorgensen / Jeremy (Spike) Cohen':\"G20PRELJOR\",\n",
    " 'President-Jo Jorgensen / Jeremy. (Spike) Cohen':\"G20PRELJOR\",\n",
    " 'President-Jo Jorgensen / Jeremy Spike) Cohen':\"G20PRELJOR\",\n",
    " 'President-Write-ins':\"G20PREOWRI\",\n",
    " 'President-Howie Hawkins / Angela Walker':\"G20PREGHAW\",\n",
    " 'President-Ballots Cast':\"drop\",\n",
    " 'President-Writein':\"G20PREOWRI\",\n",
    " 'President-Write-Ins':\"G20PREOWRI\",\n",
    " 'President-Write-In':\"G20PREOWRI\",\n",
    " 'President-Joseph R. Biden / Kamala D Harris':\"G20PREDBID\",\n",
    "\n",
    " \n",
    " 'U.S. Senate-Jo Rae Perkins':\"G20USSRPER\",\n",
    " 'U.S. Senate-Jeff Merkley':\"G20USSDMER\",\n",
    " 'U.S. Senate-Ibrahim A Taher':\"G20USSGTAH\",\n",
    " 'U.S. Senate-Gary Dye':\"G20USSLDYE\",\n",
    " 'U.S. Senate-Write-in':\"G20USSOWRI\",\n",
    " 'U.S. Senate-Write-ins':\"G20USSOWRI\",\n",
    " 'U.S. Senate-Ibrahim A. Taher':\"G20USSGTAH\",\n",
    " 'U.S. Senate-Ibrahim Tahir':\"G20USSGTAH\",\n",
    " 'U.S. Senate-Gary.Dye':\"G20USSLDYE\",\n",
    " 'U.S. Senate-Ibrahim Taher':\"G20USSGTAH\",\n",
    " 'U.S. Senate-Ibraham Taher':\"G20USSGTAH\",\n",
    " 'U.S. Senate-Write-In':\"G20USSOWRI\",\n",
    " 'U.S. Senate-Write-Ins':\"G20USSOWRI\",\n",
    " \n",
    " 'Secretary of State-Nathalie Paravicini':\"G20SOSGPAR\",\n",
    " 'Secretary of State-Natalie Paravicini':\"G20SOSGPAR\",\n",
    " 'Secretary of State-Nathalie Paravacini':\"G20SOSGPAR\",\n",
    " 'Secretary of State-Nathalie Paracivini':\"G20SOSGPAR\",\n",
    " 'Secretary of State-Kyle Markey':\"G20SOSLMAR\",\n",
    " 'Secretary of State-Kyle Markley':\"G20SOSLMAR\",\n",
    " 'Secretary of State-Kim Thatcher':\"G20SOSRTHA\",\n",
    " 'Secretary of State-Shemia Fagan':\"G20SOSDFAG\",\n",
    " 'Secretary of State-Write-in':\"G20SOSOWRI\",\n",
    " 'Secretary of State-Write-Ins':\"G20SOSOWRI\",\n",
    " 'Secretary of State-Write-In':\"G20SOSOWRI\", \n",
    " 'Secretary of State-Write-ins':\"G20SOSOWRI\",\n",
    " 'Secretary of State-Writein':\"G20SOSOWRI\",\n",
    " \n",
    " 'State Treasurer-Jeff Gudman':\"G20TRERGUD\",\n",
    " 'State Treasurer-Michael P Marsh':\"G20TRECMAR\", \n",
    " 'State Treasurer-Michael Marsh':\"G20TRECMAR\",\n",
    " 'State Treasurer-Michael P. Marsh':\"G20TRECMAR\",\n",
    " 'State Treasurer-Michael P. Marsch':\"G20TRECMAR\",\n",
    " 'State Treasurer-Tobias Read':\"G20TREDREA\",\n",
    " 'State Treasurer-Tobias Reed':\"G20TREDREA\",\n",
    " 'State Treasurer-Writein':\"G20TREOWRI\",\n",
    " 'State Treasurer-Write-ins':\"G20TREOWRI\",\n",
    " 'State Treasurer-Write-Ins':\"G20TREOWRI\",\n",
    " 'State Treasurer-Write-In':\"G20TREOWRI\",\n",
    " 'State Treasurer-Write-in':\"G20TREOWRI\",\n",
    " 'State Treasurer-IND Chris Henry':\"G20TREIHEN\",\n",
    " 'State Treasurer-Chris Henry':\"G20TREIHEN\",\n",
    " 'State Treasurer-Chris Hen':\"G20TREIHEN\",\n",
    " \n",
    " 'Attorney General-Ellen Rosenblum':\"G20ATGDROS\",\n",
    " 'Attorney General-Ellen Roseblum':\"G20ATGDROS\",\n",
    " 'Attorney General-Lars D H Hedbor':\"G20ATGLHED\",\n",
    " 'Attorney General-Lars D.H. Hedbor':\"G20ATGLHED\",\n",
    " 'Attorney General-Lars D. H. Hedbor':\"G20ATGLHED\",\n",
    " 'Attorney General-Lars Hedbor':\"G20ATGLHED\",\n",
    " 'Attorney General-Michael Cross':\"G20ATGRCRO\", \n",
    " 'Attorney General-Write-in':\"G20ATGOWRI\",\n",
    " 'Attorney General-Write-ins':\"G20ATGOWRI\",\n",
    " 'Attorney General-Writein':\"G20ATGOWRI\",\n",
    " 'Attorney General-Write-Ins':\"G20ATGOWRI\",\n",
    " 'Attorney General-Write-In':\"G20ATGOWRI\"\n",
    "}"
   ]
  },
  {
   "cell_type": "code",
   "execution_count": 12,
   "id": "56d9138e",
   "metadata": {},
   "outputs": [],
   "source": [
    "election_results[\"cand_detailed\"] = election_results[\"cand_detailed\"].map(cand_name_updates_dict).fillna(election_results[\"cand_detailed\"])"
   ]
  },
  {
   "cell_type": "code",
   "execution_count": 13,
   "id": "f091f7d9",
   "metadata": {},
   "outputs": [],
   "source": [
    "election_results = election_results[election_results[\"cand_detailed\"]!=\"drop\"]"
   ]
  },
  {
   "cell_type": "code",
   "execution_count": 14,
   "id": "73d0063e",
   "metadata": {},
   "outputs": [],
   "source": [
    "pivoted_results = pd.pivot_table(election_results,index=\"pivot_col\",values=[\"votes\"],aggfunc=sum,columns=\"cand_detailed\")"
   ]
  },
  {
   "cell_type": "code",
   "execution_count": 15,
   "id": "81d97a2b",
   "metadata": {},
   "outputs": [],
   "source": [
    "pivoted_results.reset_index(inplace=True,drop=False)\n",
    "pivoted_results.columns = pivoted_results.columns.droplevel(0)\n",
    "pivoted_results.rename(columns={\"\":\"unique_ID\"},inplace=True)"
   ]
  },
  {
   "cell_type": "code",
   "execution_count": 16,
   "id": "2695f338",
   "metadata": {},
   "outputs": [
    {
     "data": {
      "text/plain": [
       "Index(['unique_ID', 'G20ATGDROS', 'G20ATGLHED', 'G20ATGOWRI', 'G20ATGRCRO',\n",
       "       'G20PREDBID', 'G20PREGHAW', 'G20PRELJOR', 'G20PREOWRI', 'G20PREPHUN',\n",
       "       'G20PRERTRU', 'G20SOSDFAG', 'G20SOSGPAR', 'G20SOSLMAR', 'G20SOSOWRI',\n",
       "       'G20SOSRTHA', 'G20TRECMAR', 'G20TREDREA', 'G20TREIHEN', 'G20TREOWRI',\n",
       "       'G20TRERGUD', 'G20USSDMER', 'G20USSGTAH', 'G20USSLDYE', 'G20USSOWRI',\n",
       "       'G20USSRPER'],\n",
       "      dtype='object', name='cand_detailed')"
      ]
     },
     "execution_count": 16,
     "metadata": {},
     "output_type": "execute_result"
    }
   ],
   "source": [
    "pivoted_results.columns"
   ]
  },
  {
   "cell_type": "code",
   "execution_count": 17,
   "id": "ce399e5a",
   "metadata": {},
   "outputs": [],
   "source": [
    "pivoted_results = pivoted_results[pivoted_results[\"unique_ID\"]!=\"Curry-nan\"]"
   ]
  },
  {
   "cell_type": "markdown",
   "id": "2ffe2c49",
   "metadata": {},
   "source": [
    "## Statewide Check"
   ]
  },
  {
   "cell_type": "code",
   "execution_count": 18,
   "id": "bebc4ea8",
   "metadata": {},
   "outputs": [],
   "source": [
    "def statewide_totals_check(partner_df,source_df,column_list):\n",
    "    \"\"\"Compares the totals of two election result dataframes at the statewide total level\n",
    "\n",
    "    Args:\n",
    "      partner_df: DataFrame of election results we are comparing against\n",
    "      source_df: DataFrame of election results we are comparing to\n",
    "      column_list: List of races that there are votes for\n",
    " \n",
    "    Returns:\n",
    "      Nothing, only prints out an analysis\n",
    "    \"\"\"\n",
    "    print(\"***Statewide Totals Check***\")\n",
    "    for race in column_list:\n",
    "        if (partner_df[race].sum()- source_df[race].sum() != 0):\n",
    "            print(race+\" has a difference of \"+str(partner_df[race].sum()-source_df[race].sum())+\" votes\")\n",
    "            print(\"\\tVEST: \"+str(partner_df[race].sum())+\" votes\")\n",
    "            print(\"\\tSOURCES: \"+str(source_df[race].sum())+\" votes\")\n",
    "        else:\n",
    "            print(race + \" is equal\", \"\\tVEST / RDH: \" + str(partner_df[race].sum()))"
   ]
  },
  {
   "cell_type": "code",
   "execution_count": 19,
   "id": "36cb7275",
   "metadata": {},
   "outputs": [
    {
     "name": "stdout",
     "output_type": "stream",
     "text": [
      "***Statewide Totals Check***\n",
      "G20PREDBID is equal \tVEST / RDH: 1340383\n",
      "G20PRERTRU is equal \tVEST / RDH: 958448\n",
      "G20PRELJOR has a difference of 20.0 votes\n",
      "\tVEST: 41582 votes\n",
      "\tSOURCES: 41562.0 votes\n",
      "G20PREGHAW has a difference of 8.0 votes\n",
      "\tVEST: 11831 votes\n",
      "\tSOURCES: 11823.0 votes\n",
      "G20PREPHUN is equal \tVEST / RDH: 4988\n",
      "G20PREOWRI is equal \tVEST / RDH: 17089\n",
      "G20USSDMER is equal \tVEST / RDH: 1321047\n",
      "G20USSRPER is equal \tVEST / RDH: 912814\n",
      "G20USSLDYE is equal \tVEST / RDH: 42747\n",
      "G20USSGTAH is equal \tVEST / RDH: 42239\n",
      "G20USSOWRI is equal \tVEST / RDH: 2402\n",
      "G20ATGDROS is equal \tVEST / RDH: 1264716\n",
      "G20ATGRCRO is equal \tVEST / RDH: 934357\n",
      "G20ATGLHED is equal \tVEST / RDH: 52087\n",
      "G20ATGOWRI is equal \tVEST / RDH: 8490\n",
      "G20SOSDFAG is equal \tVEST / RDH: 1146370\n",
      "G20SOSRTHA is equal \tVEST / RDH: 984597\n",
      "G20SOSLMAR is equal \tVEST / RDH: 62985\n",
      "G20SOSGPAR is equal \tVEST / RDH: 82211\n",
      "G20SOSOWRI is equal \tVEST / RDH: 2340\n",
      "G20TREDREA is equal \tVEST / RDH: 1166703\n",
      "G20TRERGUD is equal \tVEST / RDH: 936916\n",
      "G20TREIHEN is equal \tVEST / RDH: 99870\n",
      "G20TRECMAR is equal \tVEST / RDH: 51894\n",
      "G20TREOWRI is equal \tVEST / RDH: 2072\n"
     ]
    }
   ],
   "source": [
    "statewide_totals_check(vest_or_20,pivoted_results,data_columns)"
   ]
  },
  {
   "cell_type": "markdown",
   "id": "e3ac6283",
   "metadata": {},
   "source": [
    "## County-by-County Check"
   ]
  },
  {
   "cell_type": "code",
   "execution_count": 20,
   "id": "0709d771",
   "metadata": {},
   "outputs": [],
   "source": [
    "pivoted_results[\"COUNTY\"] = pivoted_results[\"unique_ID\"].apply(lambda x:x.split(\"-\")[0])"
   ]
  },
  {
   "cell_type": "code",
   "execution_count": 21,
   "id": "a994ccef",
   "metadata": {},
   "outputs": [],
   "source": [
    "def county_totals_check(partner_df,source_df,column_list,county_col,full_print=False):\n",
    "    \"\"\"Compares the totals of two election result dataframes at the county level\n",
    "\n",
    "    Args:\n",
    "      partner_df: DataFrame of election results we are comparing against\n",
    "      source_df: DataFrame of election results we are comparing to\n",
    "      column_list: List of races that there are votes for\n",
    "      county_col: String of the column name that contains county information\n",
    "      full_print: Boolean specifying whether to print out everything, including counties w/ similarities\n",
    "\n",
    "    Returns:\n",
    "      Nothing, only prints out an analysis\n",
    "    \"\"\"\n",
    "    \n",
    "    print(\"***Countywide Totals Check***\")\n",
    "    print(\"\")\n",
    "    diff_counties=[]\n",
    "    for race in column_list:\n",
    "        diff = partner_df.groupby([county_col]).sum()[race]-source_df.groupby([county_col]).sum()[race]\n",
    "        for val in diff[diff != 0].index.values.tolist():\n",
    "            if val not in diff_counties:\n",
    "                diff_counties.append(val)\n",
    "        if len(diff[diff != 0]!=0):   \n",
    "            print(race + \" contains differences in these counties:\")\n",
    "            for val in diff[diff != 0].index.values.tolist():\n",
    "                county_differences = diff[diff != 0]\n",
    "                print(\"\\t\"+val+\" has a difference of \"+str(county_differences[val])+\" votes\")\n",
    "                print(\"\\t\\tVEST: \"+str(partner_df.groupby([county_col]).sum().loc[val,race])+\" votes\")\n",
    "                print(\"\\t\\tSOURCES: \"+str(source_df.groupby([county_col]).sum().loc[val,race])+\" votes\")\n",
    "            if (full_print):\n",
    "                for val in diff[diff == 0].index.values.tolist():\n",
    "                    county_similarities = diff[diff == 0]\n",
    "                    print(\"\\t\"+val + \": \"+ str(partner_df.groupby([county_col]).sum().loc[val,race])+\" votes\")\n",
    "        else:\n",
    "            print(race + \" is equal across all counties\")\n",
    "            if (full_print):\n",
    "                for val in diff[diff == 0].index.values.tolist():\n",
    "                    county_similarities = diff[diff == 0]\n",
    "                    print(\"\\t\"+val + \": \"+ str(partner_df.groupby([county_col]).sum().loc[val,race])+\" votes\")\n",
    "    if (len(diff_counties)>0):\n",
    "        print()\n",
    "        print(diff_counties)"
   ]
  },
  {
   "cell_type": "code",
   "execution_count": 22,
   "id": "46e458b7",
   "metadata": {},
   "outputs": [
    {
     "name": "stdout",
     "output_type": "stream",
     "text": [
      "***Countywide Totals Check***\n",
      "\n",
      "G20PREDBID is equal across all counties\n",
      "G20PRERTRU is equal across all counties\n",
      "G20PRELJOR contains differences in these counties:\n",
      "\tBaker has a difference of 20.0 votes\n",
      "\t\tVEST: 144 votes\n",
      "\t\tSOURCES: 124.0 votes\n",
      "G20PREGHAW contains differences in these counties:\n",
      "\tGrant has a difference of 8.0 votes\n",
      "\t\tVEST: 12 votes\n",
      "\t\tSOURCES: 4.0 votes\n",
      "G20PREPHUN is equal across all counties\n",
      "G20PREOWRI is equal across all counties\n",
      "G20USSDMER is equal across all counties\n",
      "G20USSRPER is equal across all counties\n",
      "G20USSLDYE is equal across all counties\n",
      "G20USSGTAH is equal across all counties\n",
      "G20USSOWRI is equal across all counties\n",
      "G20ATGDROS is equal across all counties\n",
      "G20ATGRCRO is equal across all counties\n",
      "G20ATGLHED is equal across all counties\n",
      "G20ATGOWRI is equal across all counties\n",
      "G20SOSDFAG is equal across all counties\n",
      "G20SOSRTHA is equal across all counties\n",
      "G20SOSLMAR is equal across all counties\n",
      "G20SOSGPAR is equal across all counties\n",
      "G20SOSOWRI is equal across all counties\n",
      "G20TREDREA is equal across all counties\n",
      "G20TRERGUD is equal across all counties\n",
      "G20TREIHEN is equal across all counties\n",
      "G20TRECMAR is equal across all counties\n",
      "G20TREOWRI is equal across all counties\n",
      "\n",
      "['Baker', 'Grant']\n"
     ]
    }
   ],
   "source": [
    "county_totals_check(vest_or_20,pivoted_results,data_columns,\"COUNTY\",full_print=False)"
   ]
  },
  {
   "cell_type": "code",
   "execution_count": 23,
   "id": "834eea77",
   "metadata": {},
   "outputs": [],
   "source": [
    "vest_or_20.groupby([\"COUNTY\"]).sum().to_csv(\"./vest_totals.csv\")"
   ]
  },
  {
   "cell_type": "markdown",
   "id": "2a77720d",
   "metadata": {},
   "source": [
    "## Precinct-by-Precinct Check"
   ]
  },
  {
   "cell_type": "code",
   "execution_count": 24,
   "id": "5809d183",
   "metadata": {},
   "outputs": [],
   "source": [
    "vest_or_20[\"unique_ID\"]=vest_or_20[\"COUNTY\"]+\"-\"+vest_or_20[\"NAME\"]+\" \"+vest_or_20[\"PRECINCT\"]\n",
    "vest_or_20[\"unique_ID\"] = vest_or_20[\"unique_ID\"].str.upper()"
   ]
  },
  {
   "cell_type": "code",
   "execution_count": 25,
   "id": "ffba6259",
   "metadata": {},
   "outputs": [],
   "source": [
    "pivoted_results[\"unique_ID\"] = pivoted_results[\"unique_ID\"].str.upper()"
   ]
  },
  {
   "cell_type": "code",
   "execution_count": 26,
   "id": "9c072ff1",
   "metadata": {},
   "outputs": [
    {
     "data": {
      "text/plain": [
       "KLAMATH-PRECINCT 06                  1\n",
       "LINN-PRECINCT 101                    1\n",
       "UMATILLA-123-MILTON-FRWTR,OUTSIDE    1\n",
       "TILLAMOOK-TILLAMOOK #2               1\n",
       "MARION-655                           1\n",
       "                                    ..\n",
       "WASHINGTON-PRECINCT 424              1\n",
       "MARION-326                           1\n",
       "MALHEUR-18 - HARPER                  1\n",
       "WASHINGTON-PRECINCT 426              1\n",
       "LINN-PRECINCT 103                    1\n",
       "Name: unique_ID, Length: 1326, dtype: int64"
      ]
     },
     "execution_count": 26,
     "metadata": {},
     "output_type": "execute_result"
    }
   ],
   "source": [
    "vest_or_20[\"unique_ID\"].value_counts(dropna=False)\n",
    "pivoted_results[\"unique_ID\"].value_counts(dropna=False)"
   ]
  },
  {
   "cell_type": "code",
   "execution_count": 27,
   "id": "cd0a2cb7",
   "metadata": {},
   "outputs": [
    {
     "data": {
      "text/plain": [
       "left_only     1331\n",
       "right_only    1326\n",
       "both             0\n",
       "Name: _merge, dtype: int64"
      ]
     },
     "execution_count": 27,
     "metadata": {},
     "output_type": "execute_result"
    }
   ],
   "source": [
    "join_attempt_one = pd.merge(vest_or_20,pivoted_results,on=\"unique_ID\",how=\"outer\",indicator=True)\n",
    "join_attempt_one[\"_merge\"].value_counts()"
   ]
  },
  {
   "cell_type": "code",
   "execution_count": 28,
   "id": "6a26ca20",
   "metadata": {},
   "outputs": [],
   "source": [
    "\n",
    "join_attempt_one[join_attempt_one[\"_merge\"]==\"left_only\"].to_csv(\"./vest_only.csv\")\n",
    "join_attempt_one[join_attempt_one[\"_merge\"]==\"right_only\"].to_csv(\"./pivoted.csv\")"
   ]
  },
  {
   "cell_type": "code",
   "execution_count": 29,
   "id": "9ce13c03",
   "metadata": {},
   "outputs": [],
   "source": [
    "source_vest_id_changes = pd.read_csv(\"./source_vest_id_changes.csv\")\n",
    "source_vest_id_changes_dict = dict(zip(source_vest_id_changes[\"election_ID\"],source_vest_id_changes[\"vest_ID\"]))"
   ]
  },
  {
   "cell_type": "code",
   "execution_count": 30,
   "id": "bcbd597f",
   "metadata": {},
   "outputs": [],
   "source": [
    "pivoted_results[\"unique_ID\"] = pivoted_results[\"unique_ID\"].map(source_vest_id_changes_dict).fillna(pivoted_results[\"unique_ID\"])"
   ]
  },
  {
   "cell_type": "code",
   "execution_count": 31,
   "id": "5769ae1e",
   "metadata": {},
   "outputs": [],
   "source": [
    "pivoted_results = pivoted_results.fillna(0)\n"
   ]
  },
  {
   "cell_type": "code",
   "execution_count": 32,
   "id": "c301cca9",
   "metadata": {},
   "outputs": [
    {
     "data": {
      "text/plain": [
       "both          1326\n",
       "left_only        5\n",
       "right_only       0\n",
       "Name: _merge, dtype: int64"
      ]
     },
     "execution_count": 32,
     "metadata": {},
     "output_type": "execute_result"
    }
   ],
   "source": [
    "join_attempt_two = pd.merge(vest_or_20,pivoted_results,on=\"unique_ID\",how=\"outer\",indicator=True)\n",
    "join_attempt_two[\"_merge\"].value_counts()"
   ]
  },
  {
   "cell_type": "code",
   "execution_count": 33,
   "id": "a4bd1497",
   "metadata": {},
   "outputs": [],
   "source": [
    "join_attempt_two[join_attempt_two[\"_merge\"]==\"left_only\"].to_csv(\"./vest_only.csv\")\n",
    "join_attempt_two[join_attempt_two[\"_merge\"]==\"right_only\"].to_csv(\"./pivoted.csv\")"
   ]
  },
  {
   "cell_type": "code",
   "execution_count": 34,
   "id": "7b8ebaa4",
   "metadata": {},
   "outputs": [],
   "source": [
    "def precinct_votes_check(merged_df,column_list,vest_on_left,name_col,print_level=0):\n",
    "    \"\"\"Checks a merged dataframe with two election results at the precinct level\n",
    "\n",
    "    Args:\n",
    "      merged_df: DataFrame with one set of election results joined to another\n",
    "      column_list: List of races that there are votes for\n",
    "      vest_on_left: Boolean specifying whether VEST data is on the left side of merged_df\n",
    "      name_col: String of the column name to refer to precincts when a difference occurs\n",
    "      print_level: Integer that specifies how large the vote difference in a precinct must be to be printed\n",
    "\n",
    "    Returns:\n",
    "      Nothing, only prints out an analysis\n",
    "    \"\"\"\n",
    "    merged_df = merged_df.sort_values(by=[name_col],inplace=False)\n",
    "    matching_rows = 0\n",
    "    different_rows = 0\n",
    "    diff_list=[]\n",
    "    diff_values = []\n",
    "    max_diff = 0\n",
    "    for index,row in merged_df.iterrows():\n",
    "        same = True\n",
    "        for i in column_list:\n",
    "            left_data = i + \"_x\"\n",
    "            right_data = i + \"_y\"\n",
    "            if ((row[left_data] is None) or (row[right_data] is None) or (np.isnan(row[right_data])or(np.isnan(row[left_data])))):\n",
    "                print(\"FIX NaN value at: \", row[name_col])\n",
    "                return;\n",
    "            diff = abs(row[left_data]-row[right_data])\n",
    "            if (diff>0):\n",
    "                same = False\n",
    "                diff_values.append(abs(diff))\n",
    "                if (diff>max_diff):\n",
    "                    max_diff = diff\n",
    "            if(diff>print_level):\n",
    "                if (vest_on_left):\n",
    "                    print(i, \"{:.>72}\".format(row[name_col]), \"(V)\",\"{:.>5}\".format(int(row[left_data])),\" (S){:.>5}\".format(int(row[right_data])),\"(D):{:>5}\".format(int(row[left_data]-row[right_data])))                           \n",
    "                else:\n",
    "                    print(i, \"{:.>72}\".format(row[name_col]), \"(S)\",\"{:.>5}\".format(int(row[left_data])),\" (V){:.>5}\".format(int(row[right_data])),\"(D):{:>5}\".format(int(row[left_data]-row[right_data])))\n",
    "        if(same != True):\n",
    "            different_rows +=1\n",
    "            diff_list.append(row[name_col])\n",
    "        else:\n",
    "            matching_rows +=1\n",
    "    print(\"\")\n",
    "    print(\"There are \", len(merged_df.index),\" total rows\")\n",
    "    print(different_rows,\" of these rows have election result differences\")\n",
    "    print(matching_rows,\" of these rows are the same\")\n",
    "    print(\"\")\n",
    "    print(\"The max difference between any one shared column in a row is: \", max_diff)\n",
    "    if(len(diff_values)!=0):\n",
    "        print(\"The average difference is: \", str(sum(diff_values)/len(diff_values)))\n",
    "    count_big_diff = len([i for i in diff_values if i > 10])\n",
    "    print(\"There are \", str(count_big_diff), \"precinct results with a difference greater than 10\")\n",
    "    print(\"\")\n",
    "    print(\"All precincts containing differences:\")\n",
    "    diff_list.sort()\n",
    "    print(diff_list)"
   ]
  },
  {
   "cell_type": "code",
   "execution_count": 35,
   "id": "ea64169a",
   "metadata": {},
   "outputs": [
    {
     "name": "stdout",
     "output_type": "stream",
     "text": [
      "G20PRELJOR ...................................................BAKER-BAKER CITY 5 05 (V) ...22  (S)....2 (D):   20\n",
      "G20PREGHAW .......................................................GRANT-JOHN DAY 03 (V) ....8  (S)....0 (D):    8\n",
      "\n",
      "There are  1326  total rows\n",
      "2  of these rows have election result differences\n",
      "1324  of these rows are the same\n",
      "\n",
      "The max difference between any one shared column in a row is:  20.0\n",
      "The average difference is:  14.0\n",
      "There are  1 precinct results with a difference greater than 10\n",
      "\n",
      "All precincts containing differences:\n",
      "['BAKER-BAKER CITY 5 05', 'GRANT-JOHN DAY 03']\n"
     ]
    }
   ],
   "source": [
    "precinct_votes_check(join_attempt_two[join_attempt_two[\"_merge\"]==\"both\"],data_columns,True,\"unique_ID\",print_level=0)"
   ]
  },
  {
   "cell_type": "code",
   "execution_count": 36,
   "id": "edff3f82",
   "metadata": {},
   "outputs": [
    {
     "data": {
      "text/html": [
       "<div>\n",
       "<style scoped>\n",
       "    .dataframe tbody tr th:only-of-type {\n",
       "        vertical-align: middle;\n",
       "    }\n",
       "\n",
       "    .dataframe tbody tr th {\n",
       "        vertical-align: top;\n",
       "    }\n",
       "\n",
       "    .dataframe thead th {\n",
       "        text-align: right;\n",
       "    }\n",
       "</style>\n",
       "<table border=\"1\" class=\"dataframe\">\n",
       "  <thead>\n",
       "    <tr style=\"text-align: right;\">\n",
       "      <th>cand_detailed</th>\n",
       "      <th>unique_ID</th>\n",
       "      <th>G20ATGDROS</th>\n",
       "      <th>G20ATGLHED</th>\n",
       "      <th>G20ATGOWRI</th>\n",
       "      <th>G20ATGRCRO</th>\n",
       "      <th>G20PREDBID</th>\n",
       "      <th>G20PREGHAW</th>\n",
       "      <th>G20PRELJOR</th>\n",
       "      <th>G20PREOWRI</th>\n",
       "      <th>G20PREPHUN</th>\n",
       "      <th>...</th>\n",
       "      <th>G20TREDREA</th>\n",
       "      <th>G20TREIHEN</th>\n",
       "      <th>G20TREOWRI</th>\n",
       "      <th>G20TRERGUD</th>\n",
       "      <th>G20USSDMER</th>\n",
       "      <th>G20USSGTAH</th>\n",
       "      <th>G20USSLDYE</th>\n",
       "      <th>G20USSOWRI</th>\n",
       "      <th>G20USSRPER</th>\n",
       "      <th>COUNTY</th>\n",
       "    </tr>\n",
       "  </thead>\n",
       "  <tbody>\n",
       "    <tr>\n",
       "      <th>231</th>\n",
       "      <td>COOS-BANDON CITY 16</td>\n",
       "      <td>1002.0</td>\n",
       "      <td>33.0</td>\n",
       "      <td>3.0</td>\n",
       "      <td>943.0</td>\n",
       "      <td>1049.0</td>\n",
       "      <td>10.0</td>\n",
       "      <td>21.0</td>\n",
       "      <td>11.0</td>\n",
       "      <td>2.0</td>\n",
       "      <td>...</td>\n",
       "      <td>946.0</td>\n",
       "      <td>61.0</td>\n",
       "      <td>3.0</td>\n",
       "      <td>919.0</td>\n",
       "      <td>1054.0</td>\n",
       "      <td>19.0</td>\n",
       "      <td>21.0</td>\n",
       "      <td>1.0</td>\n",
       "      <td>925.0</td>\n",
       "      <td>Coos</td>\n",
       "    </tr>\n",
       "  </tbody>\n",
       "</table>\n",
       "<p>1 rows × 27 columns</p>\n",
       "</div>"
      ],
      "text/plain": [
       "cand_detailed            unique_ID  G20ATGDROS  G20ATGLHED  G20ATGOWRI  \\\n",
       "231            COOS-BANDON CITY 16      1002.0        33.0         3.0   \n",
       "\n",
       "cand_detailed  G20ATGRCRO  G20PREDBID  G20PREGHAW  G20PRELJOR  G20PREOWRI  \\\n",
       "231                 943.0      1049.0        10.0        21.0        11.0   \n",
       "\n",
       "cand_detailed  G20PREPHUN  ...  G20TREDREA  G20TREIHEN  G20TREOWRI  \\\n",
       "231                   2.0  ...       946.0        61.0         3.0   \n",
       "\n",
       "cand_detailed  G20TRERGUD  G20USSDMER  G20USSGTAH  G20USSLDYE  G20USSOWRI  \\\n",
       "231                 919.0      1054.0        19.0        21.0         1.0   \n",
       "\n",
       "cand_detailed  G20USSRPER  COUNTY  \n",
       "231                 925.0    Coos  \n",
       "\n",
       "[1 rows x 27 columns]"
      ]
     },
     "metadata": {},
     "output_type": "display_data"
    }
   ],
   "source": [
    "display(pivoted_results[pivoted_results[\"unique_ID\"]==\"COOS-BANDON CITY 16\"])"
   ]
  },
  {
   "cell_type": "markdown",
   "id": "110e7418",
   "metadata": {},
   "source": [
    "There are a few different categories of differences:\n",
    "    \n",
    "    1. BAKER-BAKER CITY 5 05, G20PRELJOR 20 more votes in VEST\n",
    "    2. GRANT county, difference in presidential results"
   ]
  }
 ],
 "metadata": {
  "kernelspec": {
   "display_name": "Python 3",
   "language": "python",
   "name": "python3"
  },
  "language_info": {
   "codemirror_mode": {
    "name": "ipython",
    "version": 3
   },
   "file_extension": ".py",
   "mimetype": "text/x-python",
   "name": "python",
   "nbconvert_exporter": "python",
   "pygments_lexer": "ipython3",
   "version": "3.9.2"
  }
 },
 "nbformat": 4,
 "nbformat_minor": 5
}
